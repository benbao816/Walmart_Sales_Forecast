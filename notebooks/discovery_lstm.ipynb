{
 "cells": [
  {
   "cell_type": "code",
   "execution_count": 83,
   "metadata": {},
   "outputs": [],
   "source": [
    "import hydra\n",
    "import pandas as pd\n",
    "import numpy as np\n",
    "import tensorflow as tf\n",
    "from sklearn.preprocessing import MinMaxScaler\n",
    "from sklearn.model_selection import train_test_split\n",
    "from sklearn.metrics import mean_absolute_error, mean_squared_error\n",
    "from keras.models import Sequential\n",
    "from keras.layers import LSTM, Dense, LayerNormalization\n",
    "\n",
    "import matplotlib.pyplot as plt\n",
    "from math import sqrt\n",
    "from statsmodels.tsa.arima.model import ARIMA\n"
   ]
  },
  {
   "cell_type": "code",
   "execution_count": 84,
   "metadata": {},
   "outputs": [],
   "source": [
    "num_cols = ['Holiday_Flag', 'Temperature','Fuel_Price', 'CPI', 'Unemployment']\n",
    "\n",
    "cate_cols = ['Store']\n",
    "\n",
    "label = 'Weekly_Sales'"
   ]
  },
  {
   "cell_type": "code",
   "execution_count": 85,
   "metadata": {},
   "outputs": [],
   "source": [
    "def one_hot_encode(*arrays):\n",
    "    return [pd.get_dummies(arr).values for arr in arrays]\n",
    "\n",
    "def create_dataset(dataset, time_steps=1):\n",
    "    data_x, data_y = [], []\n",
    "    for i in range(len(dataset) - time_steps):\n",
    "        a = dataset[i:(i + time_steps), :]\n",
    "        data_x.append(a)\n",
    "        data_y.append(dataset[i + time_steps, 0])\n",
    "    return np.array(data_x), np.array(data_y)\n",
    "\n",
    "def parse_cate_cols(df, cate_cols, num_cols):\n",
    "    cate_encoded = [one_hot_encode(df[cate])[0] for cate in cate_cols]\n",
    "    stack_cols = [df[label], df[num_cols]] + cate_encoded\n",
    "    sales_with_features = np.column_stack(stack_cols)\n",
    "    return sales_with_features\n",
    "\n",
    "def inverse_y_array(y, shape, scaler):\n",
    "    dummies = [0] * (shape - 1)\n",
    "    y_reform = np.array([[i] + dummies if type(i) != np.ndarray else [i[0]] + dummies for i in y ])\n",
    "    rescale_y = scaler.inverse_transform(y_reform)\n",
    "    rescale_y = [round(i[0],2) for i in rescale_y]\n",
    "    return rescale_y\n",
    "\n",
    "    "
   ]
  },
  {
   "cell_type": "code",
   "execution_count": 86,
   "metadata": {},
   "outputs": [],
   "source": [
    "input_data_path = \"../data/raw/train.csv\"\n",
    "df = pd.read_csv(input_data_path)\n",
    "sales_with_features = parse_cate_cols(df, cate_cols, num_cols)\n",
    "scaler = MinMaxScaler(feature_range=(0, 1))\n",
    "sales_data_normalized = scaler.fit_transform(sales_with_features)\n",
    "time_steps = 10\n",
    "X, y = create_dataset(sales_data_normalized, time_steps)\n",
    "shape = X.shape"
   ]
  },
  {
   "cell_type": "code",
   "execution_count": 87,
   "metadata": {},
   "outputs": [
    {
     "name": "stdout",
     "output_type": "stream",
     "text": [
      "5140\n"
     ]
    }
   ],
   "source": [
    "# Perform time-based split\n",
    "train_size = int(0.8 * len(X))\n",
    "print(train_size)\n",
    "X_train, X_test, y_train, y_test = train_test_split(X, y, train_size=train_size, shuffle=False)\n"
   ]
  },
  {
   "cell_type": "code",
   "execution_count": 88,
   "metadata": {},
   "outputs": [
    {
     "name": "stderr",
     "output_type": "stream",
     "text": [
      "WARNING:absl:At this time, the v2.11+ optimizer `tf.keras.optimizers.Adam` runs slowly on M1/M2 Macs, please use the legacy Keras optimizer instead, located at `tf.keras.optimizers.legacy.Adam`.\n",
      "WARNING:absl:There is a known slowdown when using v2.11+ Keras optimizers on M1/M2 Macs. Falling back to the legacy Keras optimizer, i.e., `tf.keras.optimizers.legacy.Adam`.\n"
     ]
    }
   ],
   "source": [
    "model = Sequential()\n",
    "model.add(LSTM(units=50,\n",
    "               dropout=0.1,\n",
    "               recurrent_dropout=0.1,\n",
    "               return_sequences=True,\n",
    "               input_shape=(X.shape[1], X.shape[2]),\n",
    "               # activation='LeakyReLU',\n",
    "               # recurrent_activation='LeakyReLU'\n",
    "               ))\n",
    "model.add(LayerNormalization(axis=1, beta_initializer='ones', gamma_initializer='zeros'))\n",
    "model.add(LSTM(units=50,\n",
    "               dropout=0.1,\n",
    "               recurrent_dropout=0.1,\n",
    "               # return_sequences=True,\n",
    "            #    activation='ReLU',\n",
    "            #    recurrent_activation='ReLU'\n",
    "               ))\n",
    "model.add(LayerNormalization(axis=1, beta_initializer='ones', gamma_initializer='zeros'))\n",
    "model.add(Dense(units=1))\n",
    "\n",
    "\n",
    "opt = tf.optimizers.Adam(learning_rate=0.0015)\n",
    "model.compile(optimizer=opt, loss='mean_squared_error')"
   ]
  },
  {
   "cell_type": "code",
   "execution_count": 96,
   "metadata": {},
   "outputs": [
    {
     "name": "stdout",
     "output_type": "stream",
     "text": [
      "Model: \"sequential_5\"\n",
      "_________________________________________________________________\n",
      " Layer (type)                Output Shape              Param #   \n",
      "=================================================================\n",
      " lstm_10 (LSTM)              (None, 10, 50)            20400     \n",
      "                                                                 \n",
      " layer_normalization_10 (La  (None, 10, 50)            20        \n",
      " yerNormalization)                                               \n",
      "                                                                 \n",
      " lstm_11 (LSTM)              (None, 50)                20200     \n",
      "                                                                 \n",
      " layer_normalization_11 (La  (None, 50)                100       \n",
      " yerNormalization)                                               \n",
      "                                                                 \n",
      " dense_5 (Dense)             (None, 1)                 51        \n",
      "                                                                 \n",
      "=================================================================\n",
      "Total params: 40771 (159.26 KB)\n",
      "Trainable params: 40771 (159.26 KB)\n",
      "Non-trainable params: 0 (0.00 Byte)\n",
      "_________________________________________________________________\n"
     ]
    }
   ],
   "source": [
    "model.summary()"
   ]
  },
  {
   "cell_type": "code",
   "execution_count": 89,
   "metadata": {},
   "outputs": [
    {
     "name": "stdout",
     "output_type": "stream",
     "text": [
      "Epoch 1/2\n",
      "5140/5140 [==============================] - 21s 4ms/step - loss: 0.0116\n",
      "Epoch 2/2\n",
      "5140/5140 [==============================] - 20s 4ms/step - loss: 0.0058\n"
     ]
    },
    {
     "data": {
      "text/plain": [
       "<keras.src.callbacks.History at 0x2cdca6b90>"
      ]
     },
     "execution_count": 89,
     "metadata": {},
     "output_type": "execute_result"
    }
   ],
   "source": [
    "model.fit(X_train, y_train, epochs=2, batch_size=1, verbose=1)"
   ]
  },
  {
   "cell_type": "code",
   "execution_count": 90,
   "metadata": {},
   "outputs": [
    {
     "data": {
      "text/plain": [
       "{'loss': [0.011578895151615143, 0.005821277387440205]}"
      ]
     },
     "execution_count": 90,
     "metadata": {},
     "output_type": "execute_result"
    }
   ],
   "source": [
    "model.history.history"
   ]
  },
  {
   "cell_type": "code",
   "execution_count": 91,
   "metadata": {},
   "outputs": [
    {
     "name": "stdout",
     "output_type": "stream",
     "text": [
      "41/41 [==============================] - 0s 1ms/step - loss: 0.0040\n",
      "41/41 [==============================] - 0s 1ms/step\n",
      "0.004010303411632776\n"
     ]
    }
   ],
   "source": [
    "eval_metric = model.evaluate(X_test,y_test)\n",
    "y_predict = model.predict(X_test)\n",
    "print(eval_metric)\n",
    "#0.008298889733850956"
   ]
  },
  {
   "cell_type": "code",
   "execution_count": 92,
   "metadata": {},
   "outputs": [],
   "source": [
    "y_test_reform = inverse_y_array(y_test, shape[2], scaler)\n",
    "y_predict_reform = inverse_y_array(y_predict, shape[2], scaler)"
   ]
  },
  {
   "cell_type": "code",
   "execution_count": 93,
   "metadata": {},
   "outputs": [
    {
     "name": "stdout",
     "output_type": "stream",
     "text": [
      "mae:180708.9382490272, mse:52225056031.46898, rmse:228528.0202326817\n",
      "mae:0.05007590772041748, mse:0.004010304104764538, rmse:0.06332696191011013\n"
     ]
    }
   ],
   "source": [
    "y_test_reform = inverse_y_array(y_test, shape[2], scaler)\n",
    "y_predict_reform = inverse_y_array(y_predict, shape[2], scaler)\n",
    "\n",
    "mae = mean_absolute_error(y_test_reform, y_predict_reform)\n",
    "mse = mean_squared_error(y_test_reform, y_predict_reform)\n",
    "rmse = np.sqrt(mse)\n",
    "\n",
    "mae_scale = mean_absolute_error(y_test, y_predict)\n",
    "mse_scale = mean_squared_error(y_test, y_predict)\n",
    "rmse_scale = np.sqrt(mse_scale)\n",
    "\n",
    "print(f\"mae:{mae}, mse:{mse}, rmse:{rmse}\")\n",
    "print(f\"mae:{mae_scale}, mse:{mse_scale}, rmse:{rmse_scale}\")"
   ]
  },
  {
   "cell_type": "code",
   "execution_count": 94,
   "metadata": {},
   "outputs": [
    {
     "data": {
      "text/html": [
       "<div>\n",
       "<style scoped>\n",
       "    .dataframe tbody tr th:only-of-type {\n",
       "        vertical-align: middle;\n",
       "    }\n",
       "\n",
       "    .dataframe tbody tr th {\n",
       "        vertical-align: top;\n",
       "    }\n",
       "\n",
       "    .dataframe thead th {\n",
       "        text-align: right;\n",
       "    }\n",
       "</style>\n",
       "<table border=\"1\" class=\"dataframe\">\n",
       "  <thead>\n",
       "    <tr style=\"text-align: right;\">\n",
       "      <th></th>\n",
       "      <th>y_true</th>\n",
       "      <th>y_predict</th>\n",
       "      <th>diff</th>\n",
       "      <th>ratio(%)</th>\n",
       "    </tr>\n",
       "  </thead>\n",
       "  <tbody>\n",
       "    <tr>\n",
       "      <th>1046</th>\n",
       "      <td>241937.11</td>\n",
       "      <td>641147.02</td>\n",
       "      <td>399209.91</td>\n",
       "      <td>165.005654</td>\n",
       "    </tr>\n",
       "    <tr>\n",
       "      <th>1042</th>\n",
       "      <td>264214.12</td>\n",
       "      <td>655977.58</td>\n",
       "      <td>391763.46</td>\n",
       "      <td>148.274990</td>\n",
       "    </tr>\n",
       "    <tr>\n",
       "      <th>1098</th>\n",
       "      <td>263917.85</td>\n",
       "      <td>640931.45</td>\n",
       "      <td>377013.60</td>\n",
       "      <td>142.852634</td>\n",
       "    </tr>\n",
       "    <tr>\n",
       "      <th>1049</th>\n",
       "      <td>276157.80</td>\n",
       "      <td>661917.11</td>\n",
       "      <td>385759.31</td>\n",
       "      <td>139.688001</td>\n",
       "    </tr>\n",
       "    <tr>\n",
       "      <th>1035</th>\n",
       "      <td>268708.43</td>\n",
       "      <td>641642.01</td>\n",
       "      <td>372933.58</td>\n",
       "      <td>138.787451</td>\n",
       "    </tr>\n",
       "    <tr>\n",
       "      <th>...</th>\n",
       "      <td>...</td>\n",
       "      <td>...</td>\n",
       "      <td>...</td>\n",
       "      <td>...</td>\n",
       "    </tr>\n",
       "    <tr>\n",
       "      <th>890</th>\n",
       "      <td>657108.77</td>\n",
       "      <td>656568.66</td>\n",
       "      <td>-540.11</td>\n",
       "      <td>0.082195</td>\n",
       "    </tr>\n",
       "    <tr>\n",
       "      <th>495</th>\n",
       "      <td>972373.81</td>\n",
       "      <td>972897.31</td>\n",
       "      <td>523.50</td>\n",
       "      <td>0.053837</td>\n",
       "    </tr>\n",
       "    <tr>\n",
       "      <th>596</th>\n",
       "      <td>1338132.72</td>\n",
       "      <td>1338258.83</td>\n",
       "      <td>126.11</td>\n",
       "      <td>0.009424</td>\n",
       "    </tr>\n",
       "    <tr>\n",
       "      <th>659</th>\n",
       "      <td>1214944.29</td>\n",
       "      <td>1215006.32</td>\n",
       "      <td>62.03</td>\n",
       "      <td>0.005106</td>\n",
       "    </tr>\n",
       "    <tr>\n",
       "      <th>906</th>\n",
       "      <td>601004.79</td>\n",
       "      <td>600975.67</td>\n",
       "      <td>-29.12</td>\n",
       "      <td>0.004845</td>\n",
       "    </tr>\n",
       "  </tbody>\n",
       "</table>\n",
       "<p>1285 rows × 4 columns</p>\n",
       "</div>"
      ],
      "text/plain": [
       "          y_true   y_predict       diff    ratio(%)\n",
       "1046   241937.11   641147.02  399209.91  165.005654\n",
       "1042   264214.12   655977.58  391763.46  148.274990\n",
       "1098   263917.85   640931.45  377013.60  142.852634\n",
       "1049   276157.80   661917.11  385759.31  139.688001\n",
       "1035   268708.43   641642.01  372933.58  138.787451\n",
       "...          ...         ...        ...         ...\n",
       "890    657108.77   656568.66    -540.11    0.082195\n",
       "495    972373.81   972897.31     523.50    0.053837\n",
       "596   1338132.72  1338258.83     126.11    0.009424\n",
       "659   1214944.29  1215006.32      62.03    0.005106\n",
       "906    601004.79   600975.67     -29.12    0.004845\n",
       "\n",
       "[1285 rows x 4 columns]"
      ]
     },
     "metadata": {},
     "output_type": "display_data"
    }
   ],
   "source": [
    "df_test = pd.DataFrame({'y_true':y_test_reform,'y_predict':y_predict_reform})\n",
    "df_test['diff'] = df_test['y_predict'] - df_test['y_true']\n",
    "df_test['ratio(%)'] = 100 * abs(df_test['diff']) / df_test['y_true']\n",
    "display(df_test.sort_values('ratio(%)', ascending=False))"
   ]
  },
  {
   "cell_type": "code",
   "execution_count": null,
   "metadata": {},
   "outputs": [],
   "source": []
  }
 ],
 "metadata": {
  "kernelspec": {
   "display_name": "mlp",
   "language": "python",
   "name": "python3"
  },
  "language_info": {
   "codemirror_mode": {
    "name": "ipython",
    "version": 3
   },
   "file_extension": ".py",
   "mimetype": "text/x-python",
   "name": "python",
   "nbconvert_exporter": "python",
   "pygments_lexer": "ipython3",
   "version": "3.10.12"
  }
 },
 "nbformat": 4,
 "nbformat_minor": 2
}
